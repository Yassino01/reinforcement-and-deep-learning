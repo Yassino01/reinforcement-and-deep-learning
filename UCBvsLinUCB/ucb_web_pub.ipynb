{
 "cells": [
  {
   "cell_type": "markdown",
   "metadata": {},
   "source": [
    "## Apprentissage par renforcement : epsilon-greedy vs UCB , LinUCB\n"
   ]
  },
  {
   "cell_type": "markdown",
   "metadata": {},
   "source": [
    "Ce TME a pour objectif d'expérimenter les modèles UCB et LinUCB vus en cours pour\n",
    "de la sélection de publicité en ligne."
   ]
  },
  {
   "cell_type": "code",
   "execution_count": 1,
   "metadata": {
    "executionInfo": {
     "elapsed": 944,
     "status": "ok",
     "timestamp": 1601907438574,
     "user": {
      "displayName": "thierno barry",
      "photoUrl": "",
      "userId": "08714416151536739193"
     },
     "user_tz": -120
    },
    "id": "demxzSZCohml"
   },
   "outputs": [
    {
     "name": "stderr",
     "output_type": "stream",
     "text": [
      "In /home/yass/.local/lib/python3.6/site-packages/matplotlib/mpl-data/stylelib/_classic_test.mplstyle: \n",
      "The text.latex.preview rcparam was deprecated in Matplotlib 3.3 and will be removed two minor releases later.\n",
      "In /home/yass/.local/lib/python3.6/site-packages/matplotlib/mpl-data/stylelib/_classic_test.mplstyle: \n",
      "The mathtext.fallback_to_cm rcparam was deprecated in Matplotlib 3.3 and will be removed two minor releases later.\n",
      "In /home/yass/.local/lib/python3.6/site-packages/matplotlib/mpl-data/stylelib/_classic_test.mplstyle: Support for setting the 'mathtext.fallback_to_cm' rcParam is deprecated since 3.3 and will be removed two minor releases later; use 'mathtext.fallback : 'cm' instead.\n",
      "In /home/yass/.local/lib/python3.6/site-packages/matplotlib/mpl-data/stylelib/_classic_test.mplstyle: \n",
      "The validate_bool_maybe_none function was deprecated in Matplotlib 3.3 and will be removed two minor releases later.\n",
      "In /home/yass/.local/lib/python3.6/site-packages/matplotlib/mpl-data/stylelib/_classic_test.mplstyle: \n",
      "The savefig.jpeg_quality rcparam was deprecated in Matplotlib 3.3 and will be removed two minor releases later.\n",
      "In /home/yass/.local/lib/python3.6/site-packages/matplotlib/mpl-data/stylelib/_classic_test.mplstyle: \n",
      "The keymap.all_axes rcparam was deprecated in Matplotlib 3.3 and will be removed two minor releases later.\n",
      "In /home/yass/.local/lib/python3.6/site-packages/matplotlib/mpl-data/stylelib/_classic_test.mplstyle: \n",
      "The animation.avconv_path rcparam was deprecated in Matplotlib 3.3 and will be removed two minor releases later.\n",
      "In /home/yass/.local/lib/python3.6/site-packages/matplotlib/mpl-data/stylelib/_classic_test.mplstyle: \n",
      "The animation.avconv_args rcparam was deprecated in Matplotlib 3.3 and will be removed two minor releases later.\n"
     ]
    }
   ],
   "source": [
    "import os\n",
    "import pandas as pd\n",
    "import numpy as np\n",
    "import matplotlib.pyplot as plt"
   ]
  },
  {
   "cell_type": "markdown",
   "metadata": {
    "id": "vZduv2cTouoU"
   },
   "source": [
    "### Importation des données"
   ]
  },
  {
   "cell_type": "code",
   "execution_count": 2,
   "metadata": {
    "executionInfo": {
     "elapsed": 927,
     "status": "ok",
     "timestamp": 1601907508192,
     "user": {
      "displayName": "thierno barry",
      "photoUrl": "",
      "userId": "08714416151536739193"
     },
     "user_tz": -120
    },
    "id": "cDJ4catQo5x5"
   },
   "outputs": [],
   "source": [
    "def read_data(filename = \"CTR.txt\"):\n",
    "    #data = []\n",
    "    ids, x, r = [], [], []\n",
    "    \n",
    "    with open(filename, \"r\") as f:\n",
    "        for line in f.readlines():\n",
    "            n, repr, action_rewards = line.split(':')\n",
    "            repr =  repr.strip().split(';') \n",
    "            action_rewards =  action_rewards.strip().split(';') \n",
    "\n",
    "            ids.append(n)\n",
    "            x.append(repr)\n",
    "            r.append(action_rewards)\n",
    "\n",
    "    ids = np.array(ids).astype(int)\n",
    "    x = np.array(x).astype(float)\n",
    "    r = np.array(r).astype(float)\n",
    "    \n",
    "    return ids, x, r"
   ]
  },
  {
   "cell_type": "code",
   "execution_count": 3,
   "metadata": {
    "executionInfo": {
     "elapsed": 1135,
     "status": "ok",
     "timestamp": 1601907508743,
     "user": {
      "displayName": "thierno barry",
      "photoUrl": "",
      "userId": "08714416151536739193"
     },
     "user_tz": -120
    },
    "id": "Zc00uhbQqOVI"
   },
   "outputs": [],
   "source": [
    "ids, x, r = read_data()"
   ]
  },
  {
   "cell_type": "code",
   "execution_count": 4,
   "metadata": {
    "colab": {
     "base_uri": "https://localhost:8080/",
     "height": 34
    },
    "executionInfo": {
     "elapsed": 776,
     "status": "ok",
     "timestamp": 1601900735286,
     "user": {
      "displayName": "thierno barry",
      "photoUrl": "",
      "userId": "08714416151536739193"
     },
     "user_tz": -120
    },
    "id": "XsVrHWN0qSIW",
    "outputId": "59c72890-270c-4e0f-855d-bbb302f69982"
   },
   "outputs": [
    {
     "data": {
      "text/plain": [
       "((5000,), (5000, 5), (5000, 10))"
      ]
     },
     "execution_count": 4,
     "metadata": {},
     "output_type": "execute_result"
    }
   ],
   "source": [
    "ids.shape, x.shape, r.shape"
   ]
  },
  {
   "cell_type": "code",
   "execution_count": 5,
   "metadata": {
    "colab": {
     "base_uri": "https://localhost:8080/",
     "height": 34
    },
    "executionInfo": {
     "elapsed": 833,
     "status": "ok",
     "timestamp": 1601901121180,
     "user": {
      "displayName": "thierno barry",
      "photoUrl": "",
      "userId": "08714416151536739193"
     },
     "user_tz": -120
    },
    "id": "52g5vDixrkZu",
    "outputId": "aa201e50-3007-456e-f697-be6413ef6721"
   },
   "outputs": [
    {
     "data": {
      "text/plain": [
       "array([   0,    1,    2, ..., 4997, 4998, 4999])"
      ]
     },
     "execution_count": 5,
     "metadata": {},
     "output_type": "execute_result"
    }
   ],
   "source": [
    "ids"
   ]
  },
  {
   "cell_type": "markdown",
   "metadata": {
    "id": "F_T4TGSRueHa"
   },
   "source": [
    "### construction de l'environnement"
   ]
  },
  {
   "cell_type": "code",
   "execution_count": 64,
   "metadata": {
    "executionInfo": {
     "elapsed": 546,
     "status": "ok",
     "timestamp": 1601912854670,
     "user": {
      "displayName": "thierno barry",
      "photoUrl": "",
      "userId": "08714416151536739193"
     },
     "user_tz": -120
    },
    "id": "RmLt78StuhzU"
   },
   "outputs": [],
   "source": [
    "class CTREnv:\n",
    "    def __init__(self, filename=\"CTR.txt\"):\n",
    "        ids, x, r = read_data(filename=filename)\n",
    "        self.ids = ids\n",
    "        self.x = x\n",
    "        self.r = r\n",
    "        self.t = 0\n",
    "        self.T = self.x.shape[0] # Temps final\n",
    "        self.n_actions = self.r.shape[1]\n",
    "    \n",
    "    def start(self):\n",
    "        return self.x[0]\n",
    "        \n",
    "\n",
    "    \n",
    "    def is_end(self):\n",
    "        return self.t >= self.T\n",
    "\n",
    "    def step(self, a):\n",
    "        t = self.t\n",
    "        assert self.t < self.T, \"la partie est terminée\"\n",
    "        assert a < self.n_actions, \"les actions vont de 0 à {}. vous avez fourni {}\".format(self.n_actions-1, a)\n",
    "\n",
    "        reward = self.r[t, a]\n",
    "        self.t += 1\n",
    "        obs = self.x[t, :]\n",
    "\n",
    "        return obs, reward, self.is_end()"
   ]
  },
  {
   "cell_type": "code",
   "execution_count": 11,
   "metadata": {
    "executionInfo": {
     "elapsed": 636,
     "status": "ok",
     "timestamp": 1601907586940,
     "user": {
      "displayName": "thierno barry",
      "photoUrl": "",
      "userId": "08714416151536739193"
     },
     "user_tz": -120
    },
    "id": "stMg-O390M61"
   },
   "outputs": [],
   "source": [
    "env = CTREnv()"
   ]
  },
  {
   "cell_type": "code",
   "execution_count": 12,
   "metadata": {
    "colab": {
     "base_uri": "https://localhost:8080/",
     "height": 69
    },
    "executionInfo": {
     "elapsed": 486,
     "status": "ok",
     "timestamp": 1601907587153,
     "user": {
      "displayName": "thierno barry",
      "photoUrl": "",
      "userId": "08714416151536739193"
     },
     "user_tz": -120
    },
    "id": "xo0NhXv00OIP",
    "outputId": "2b58f444-e9bc-4901-ec0b-b4f2e1377c94"
   },
   "outputs": [
    {
     "data": {
      "text/plain": [
       "(array([0.74837091, 0.83520778, 0.07669896, 0.17243899, 0.14344585]),\n",
       " 0.0,\n",
       " False)"
      ]
     },
     "execution_count": 12,
     "metadata": {
      "tags": []
     },
     "output_type": "execute_result"
    }
   ],
   "source": [
    "env.step(2)"
   ]
  },
  {
   "cell_type": "markdown",
   "metadata": {
    "id": "aJWHdHjRuYrZ"
   },
   "source": [
    "###  1) Baseline"
   ]
  },
  {
   "cell_type": "code",
   "execution_count": 40,
   "metadata": {
    "executionInfo": {
     "elapsed": 464,
     "status": "ok",
     "timestamp": 1601909260150,
     "user": {
      "displayName": "thierno barry",
      "photoUrl": "",
      "userId": "08714416151536739193"
     },
     "user_tz": -120
    },
    "id": "fGSi6vPZxwa7"
   },
   "outputs": [],
   "source": [
    "class Policy:\n",
    "    def __init__(self, n_actions):\n",
    "        self.n_actions = n_actions\n",
    "        self.rewards = []\n",
    "        self.cum_rewards = np.zeros(n_actions)\n",
    "        self.counter = np.zeros(n_actions)+1\n",
    "\n",
    "    def act(self, obs):\n",
    "        pass\n",
    "    def update(self, action, reward):\n",
    "        self.counter[action] += 1\n",
    "        self.cum_rewards[action] += reward\n",
    "        self.rewards.append(reward) \n",
    "\n",
    "\n",
    "\n",
    "class RandomPolicy(Policy):\n",
    "\n",
    "    def __init___(self):\n",
    "        super().__init__(n_actions)\n",
    "\n",
    "    def act(self, obs):\n",
    "        a = np.random.randint(self.n_actions)\n",
    "        return a\n",
    "\n",
    "\n",
    "class StaticBest(Policy):\n",
    "    def __init___(self):\n",
    "        super().__init__(n_actions)\n",
    "\n",
    "    def act(self, obs):\n",
    "        a = np.argmax( self.cum_rewards ) \n",
    "        return a\n",
    "\n",
    "class OptimalPolicy(Policy):\n",
    "    def __init___(self):\n",
    "        super().__init__(n_actions)\n",
    "\n",
    "    def act(self, obs):\n",
    "        a = np.argmax( np.divide(self.cum_rewards , self.counter) ) \n",
    "        return a\n",
    "   "
   ]
  },
  {
   "cell_type": "markdown",
   "metadata": {},
   "source": [
    "### 2) UCB:"
   ]
  },
  {
   "cell_type": "code",
   "execution_count": 41,
   "metadata": {
    "executionInfo": {
     "elapsed": 340,
     "status": "ok",
     "timestamp": 1601909260704,
     "user": {
      "displayName": "thierno barry",
      "photoUrl": "",
      "userId": "08714416151536739193"
     },
     "user_tz": -120
    },
    "id": "Q6Pyyq3d5IQJ"
   },
   "outputs": [],
   "source": [
    "class UcbPolicy(Policy):\n",
    "    def __init__(self,n_actions):\n",
    "        self.t = 0\n",
    "        super().__init__(n_actions)\n",
    "        \n",
    "\n",
    "    def act(self, obs):\n",
    "        self.t +=1\n",
    "        a = np.argmax(np.divide(self.cum_rewards , self.counter)+\n",
    "                      np.array([ (np.sqrt(2*np.log(self.t)/self.counter[i])) \n",
    "                                 for i in range( len(self.cum_rewards))])\n",
    "                      ) \n",
    "        return a"
   ]
  },
  {
   "cell_type": "code",
   "execution_count": 75,
   "metadata": {
    "executionInfo": {
     "elapsed": 416,
     "status": "ok",
     "timestamp": 1601913049898,
     "user": {
      "displayName": "thierno barry",
      "photoUrl": "",
      "userId": "08714416151536739193"
     },
     "user_tz": -120
    },
    "id": "qHbKx6H_PWmb"
   },
   "outputs": [],
   "source": [
    "class UcbLinPolicy(Policy):\n",
    "    def __init__(self,n_actions,d, alpha):\n",
    "        super().__init__(n_actions)\n",
    "\n",
    "        self.t = 0\n",
    "        self.d = d\n",
    "        self.alpha = alpha\n",
    "        self.A = [np.identity(d) for _ in range(n_actions)]\n",
    "        self.b = [np.zeros((d, 1)) for _ in range(n_actions)]\n",
    "        self.theta = [np.zeros((d, 1)) for _ in range(n_actions)]\n",
    "        self.bound = np.zeros((n_actions, 1))\n",
    "        \n",
    "\n",
    "    def act(self, obs):\n",
    "        obs = obs.reshape((self.d, 1))\n",
    "        self.t += 1\n",
    "        tmp = np.array( [np.dot( self.theta[a].T, obs ) for a in range(self.n_actions)] ).reshape((self.n_actions, 1))\n",
    "        a = np.argmax( (tmp + self.bound).flatten() ) \n",
    "        self.prev_obs = obs\n",
    "        return a\n",
    "\n",
    "    def update(self, action, reward):\n",
    "        obs=self.prev_obs\n",
    "        super().update(action, reward)\n",
    "        self.A[action] += np.dot(obs, obs.T)\n",
    "        self.b[action] += reward*obs\n",
    "\n",
    "        A_inv = np.linalg.inv(self.A[action])\n",
    "        self.theta[action] = A_inv.dot( self.b[action] )\n",
    "        self.bound[action]  = self.alpha * np.sqrt( obs.T.dot(A_inv).dot(obs) )\n",
    "\n",
    "\n"
   ]
  },
  {
   "cell_type": "code",
   "execution_count": 78,
   "metadata": {
    "executionInfo": {
     "elapsed": 1086,
     "status": "ok",
     "timestamp": 1601913065965,
     "user": {
      "displayName": "thierno barry",
      "photoUrl": "",
      "userId": "08714416151536739193"
     },
     "user_tz": -120
    },
    "id": "n0ejp8asPWpk"
   },
   "outputs": [],
   "source": [
    "env = CTREnv()\n",
    "policy = UcbLinPolicy(env.n_actions, 5, 10)\n",
    "\n",
    "obs = env.start()\n",
    "\n",
    "while True:\n",
    "    a = policy.act(obs)\n",
    "    obs, r, is_end = env.step(a)\n",
    "    policy.update(a, r)\n",
    "    if is_end:\n",
    "        break"
   ]
  },
  {
   "cell_type": "code",
   "execution_count": 79,
   "metadata": {
    "colab": {
     "base_uri": "https://localhost:8080/",
     "height": 282
    },
    "executionInfo": {
     "elapsed": 1034,
     "status": "ok",
     "timestamp": 1601913066415,
     "user": {
      "displayName": "thierno barry",
      "photoUrl": "",
      "userId": "08714416151536739193"
     },
     "user_tz": -120
    },
    "id": "HqyqI8FraewO",
    "outputId": "4f9bc82f-57a7-4aa4-9d01-c5c328242ec0"
   },
   "outputs": [
    {
     "data": {
      "text/plain": [
       "([<matplotlib.lines.Line2D at 0x7faae326ad68>], 0.016453225322725928)"
      ]
     },
     "execution_count": 79,
     "metadata": {
      "tags": []
     },
     "output_type": "execute_result"
    },
    {
     "data": {
      "image/png": "[encoded data removed]",
      "text/plain": [
       "<Figure size 432x288 with 1 Axes>"
      ]
     },
     "metadata": {
      "needs_background": "light",
      "tags": []
     },
     "output_type": "display_data"
    }
   ],
   "source": [
    "plt.plot(policy.rewards), np.mean(policy.rewards)"
   ]
  },
  {
   "cell_type": "code",
   "execution_count": null,
   "metadata": {
    "id": "TG8J1sqMPWsT"
   },
   "outputs": [],
   "source": []
  },
  {
   "cell_type": "code",
   "execution_count": 42,
   "metadata": {
    "executionInfo": {
     "elapsed": 916,
     "status": "ok",
     "timestamp": 1601909262542,
     "user": {
      "displayName": "thierno barry",
      "photoUrl": "",
      "userId": "08714416151536739193"
     },
     "user_tz": -120
    },
    "id": "mNwso6KjOGam"
   },
   "outputs": [],
   "source": [
    "env = CTREnv()\n",
    "policy = UcbPolicy(env.n_actions)\n",
    "\n",
    "obs = env.start()\n",
    "\n",
    "while True:\n",
    "    a = policy.act(obs)\n",
    "    obs, r, is_end = env.step(a)\n",
    "    policy.update(a, r)\n",
    "    if is_end:\n",
    "        break"
   ]
  },
  {
   "cell_type": "code",
   "execution_count": 31,
   "metadata": {
    "colab": {
     "base_uri": "https://localhost:8080/",
     "height": 282
    },
    "executionInfo": {
     "elapsed": 759,
     "status": "ok",
     "timestamp": 1601909067540,
     "user": {
      "displayName": "thierno barry",
      "photoUrl": "",
      "userId": "08714416151536739193"
     },
     "user_tz": -120
    },
    "id": "XXMFNZXiOGjb",
    "outputId": "4051bf27-ddf0-45f1-f31f-c0a5b26d369d"
   },
   "outputs": [
    {
     "data": {
      "text/plain": [
       "[<matplotlib.lines.Line2D at 0x7faae41ce2e8>]"
      ]
     },
     "execution_count": 31,
     "metadata": {
      "tags": []
     },
     "output_type": "execute_result"
    },
    {
     "data": {
      "image/png": "[encoded data removed]",
      "text/plain": [
       "<Figure size 432x288 with 1 Axes>"
      ]
     },
     "metadata": {
      "needs_background": "light",
      "tags": []
     },
     "output_type": "display_data"
    }
   ],
   "source": [
    "plt.plot(policy.rewards)"
   ]
  },
  {
   "cell_type": "code",
   "execution_count": 33,
   "metadata": {
    "colab": {
     "base_uri": "https://localhost:8080/",
     "height": 34
    },
    "executionInfo": {
     "elapsed": 585,
     "status": "ok",
     "timestamp": 1601909149198,
     "user": {
      "displayName": "thierno barry",
      "photoUrl": "",
      "userId": "08714416151536739193"
     },
     "user_tz": -120
    },
    "id": "yZx_giIhOWrK",
    "outputId": "7c753b23-a3a3-4ac1-8586-e7fece1833ae"
   },
   "outputs": [
    {
     "data": {
      "text/plain": [
       "0.20141435233039687"
      ]
     },
     "execution_count": 33,
     "metadata": {
      "tags": []
     },
     "output_type": "execute_result"
    }
   ],
   "source": [
    "np.mean(policy.rewards)"
   ]
  },
  {
   "cell_type": "code",
   "execution_count": null,
   "metadata": {
    "id": "T5J5NjkMOGoy"
   },
   "outputs": [],
   "source": []
  },
  {
   "cell_type": "code",
   "execution_count": 34,
   "metadata": {
    "executionInfo": {
     "elapsed": 567,
     "status": "ok",
     "timestamp": 1601909156283,
     "user": {
      "displayName": "thierno barry",
      "photoUrl": "",
      "userId": "08714416151536739193"
     },
     "user_tz": -120
    },
    "id": "BfylhUpn623W"
   },
   "outputs": [],
   "source": [
    "env = CTREnv()\n",
    "policy = RandomPolicy(env.n_actions)\n",
    "\n",
    "obs = env.start()\n",
    "\n",
    "while True:\n",
    "    a = policy.act(obs)\n",
    "    obs, r, is_end = env.step(a)\n",
    "    policy.update(a, r)\n",
    "    if is_end:\n",
    "        break"
   ]
  },
  {
   "cell_type": "code",
   "execution_count": 35,
   "metadata": {
    "colab": {
     "base_uri": "https://localhost:8080/",
     "height": 282
    },
    "executionInfo": {
     "elapsed": 730,
     "status": "ok",
     "timestamp": 1601909157444,
     "user": {
      "displayName": "thierno barry",
      "photoUrl": "",
      "userId": "08714416151536739193"
     },
     "user_tz": -120
    },
    "id": "fuPql2Y770lu",
    "outputId": "ce54be9a-0ebe-45d1-cd0e-797bf23ff462"
   },
   "outputs": [
    {
     "data": {
      "text/plain": [
       "[<matplotlib.lines.Line2D at 0x7faae3e02d68>]"
      ]
     },
     "execution_count": 35,
     "metadata": {
      "tags": []
     },
     "output_type": "execute_result"
    },
    {
     "data": {
      "image/png": "[encoded data removed]",
      "text/plain": [
       "<Figure size 432x288 with 1 Axes>"
      ]
     },
     "metadata": {
      "needs_background": "light",
      "tags": []
     },
     "output_type": "display_data"
    }
   ],
   "source": [
    "plt.plot(policy.rewards)"
   ]
  },
  {
   "cell_type": "code",
   "execution_count": 36,
   "metadata": {
    "colab": {
     "base_uri": "https://localhost:8080/",
     "height": 34
    },
    "executionInfo": {
     "elapsed": 529,
     "status": "ok",
     "timestamp": 1601909158737,
     "user": {
      "displayName": "thierno barry",
      "photoUrl": "",
      "userId": "08714416151536739193"
     },
     "user_tz": -120
    },
    "id": "Rebq-Dr3Oerw",
    "outputId": "49c6e53f-26a7-4ce4-bbdc-da70e47a3c25"
   },
   "outputs": [
    {
     "data": {
      "text/plain": [
       "0.0803476838949936"
      ]
     },
     "execution_count": 36,
     "metadata": {
      "tags": []
     },
     "output_type": "execute_result"
    }
   ],
   "source": [
    "np.mean(policy.rewards)"
   ]
  },
  {
   "cell_type": "code",
   "execution_count": null,
   "metadata": {
    "id": "SmLlCh_r89GM"
   },
   "outputs": [],
   "source": []
  },
  {
   "cell_type": "code",
   "execution_count": 37,
   "metadata": {
    "executionInfo": {
     "elapsed": 584,
     "status": "ok",
     "timestamp": 1601909169905,
     "user": {
      "displayName": "thierno barry",
      "photoUrl": "",
      "userId": "08714416151536739193"
     },
     "user_tz": -120
    },
    "id": "jwiQMuSv89lL"
   },
   "outputs": [],
   "source": [
    "env = CTREnv()\n",
    "policy = StaticBest(env.n_actions)\n",
    "\n",
    "obs = env.start()\n",
    "\n",
    "while True:\n",
    "    a = policy.act(obs)\n",
    "    obs, r, is_end = env.step(a)\n",
    "    policy.update(a, r)\n",
    "    if is_end:\n",
    "        break"
   ]
  },
  {
   "cell_type": "code",
   "execution_count": 38,
   "metadata": {
    "colab": {
     "base_uri": "https://localhost:8080/",
     "height": 282
    },
    "executionInfo": {
     "elapsed": 751,
     "status": "ok",
     "timestamp": 1601909170510,
     "user": {
      "displayName": "thierno barry",
      "photoUrl": "",
      "userId": "08714416151536739193"
     },
     "user_tz": -120
    },
    "id": "PIRoEy238liD",
    "outputId": "859351b6-6a19-4f83-ee0e-c3405aa2dc88"
   },
   "outputs": [
    {
     "data": {
      "text/plain": [
       "[<matplotlib.lines.Line2D at 0x7faae3dd7908>]"
      ]
     },
     "execution_count": 38,
     "metadata": {
      "tags": []
     },
     "output_type": "execute_result"
    },
    {
     "data": {
      "image/png": "[encoded data removed]",
      "text/plain": [
       "<Figure size 432x288 with 1 Axes>"
      ]
     },
     "metadata": {
      "needs_background": "light",
      "tags": []
     },
     "output_type": "display_data"
    }
   ],
   "source": [
    "plt.plot(policy.rewards)"
   ]
  },
  {
   "cell_type": "code",
   "execution_count": 39,
   "metadata": {
    "colab": {
     "base_uri": "https://localhost:8080/",
     "height": 34
    },
    "executionInfo": {
     "elapsed": 445,
     "status": "ok",
     "timestamp": 1601909171871,
     "user": {
      "displayName": "thierno barry",
      "photoUrl": "",
      "userId": "08714416151536739193"
     },
     "user_tz": -120
    },
    "id": "7Hdba8rV9KL1",
    "outputId": "a59f633b-91eb-4f1b-f586-af5dbfa01d5b"
   },
   "outputs": [
    {
     "data": {
      "text/plain": [
       "0.016453225322725928"
      ]
     },
     "execution_count": 39,
     "metadata": {
      "tags": []
     },
     "output_type": "execute_result"
    }
   ],
   "source": [
    "np.mean(policy.rewards)"
   ]
  }
 ],
 "metadata": {
  "colab": {
   "collapsed_sections": [],
   "name": "Untitled0.ipynb",
   "provenance": []
  },
  "kernelspec": {
   "display_name": "Python 3",
   "language": "python",
   "name": "python3"
  },
  "language_info": {
   "codemirror_mode": {
    "name": "ipython",
    "version": 3
   },
   "file_extension": ".py",
   "mimetype": "text/x-python",
   "name": "python",
   "nbconvert_exporter": "python",
   "pygments_lexer": "ipython3",
   "version": "3.6.9"
  }
 },
 "nbformat": 4,
 "nbformat_minor": 1
}
